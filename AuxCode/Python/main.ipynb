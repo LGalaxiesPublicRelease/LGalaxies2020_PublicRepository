{
 "cells": [
  {
   "cell_type": "markdown",
   "metadata": {},
   "source": [
    "# Python Plots for LGalaxies"
   ]
  },
  {
   "cell_type": "markdown",
   "metadata": {},
   "source": [
    "## Import Libraries and Read Catalogs"
   ]
  },
  {
   "cell_type": "markdown",
   "metadata": {},
   "source": [
    "<p>Use functions read_snap or read_tree to read catalogs. These are both defined in procedures.py. In case of read_snap, SnapshotList will be returned containing the list of snapshots read (usefull to later select galaxies in a given redshift).<p>"
   ]
  },
  {
   "cell_type": "code",
   "execution_count": 10,
   "metadata": {
    "collapsed": false
   },
   "outputs": [
    {
     "name": "stdout",
     "output_type": "stream",
     "text": [
      "Populating the interactive namespace from numpy and matplotlib\n",
      "\n",
      "\n",
      "Reading Headers\n",
      "\n",
      "z= 0.00  nGals =  [45042]\n",
      "z= 0.11  nGals =  [90592]\n",
      "z= 0.40  nGals =  [137186]\n",
      "z= 1.04  nGals =  [184312]\n",
      "z= 2.07  nGals =  [225316]\n",
      "z= 3.11  nGals =  [255511]\n",
      "\n",
      "\n",
      "\n",
      "Reading redshift:  0.0 \n",
      "\n",
      "File  5  nGals =  [45042]\n",
      "\n",
      "Reading redshift:  0.11 \n",
      "\n",
      "File  5  nGals =  [45550]\n",
      "\n",
      "Reading redshift:  0.4 \n",
      "\n",
      "File  5  nGals =  [46594]\n",
      "\n",
      "Reading redshift:  1.04 \n",
      "\n",
      "File  5  nGals =  [47126]\n",
      "\n",
      "Reading redshift:  2.07 \n",
      "\n",
      "File  5  nGals =  [41004]\n",
      "\n",
      "Reading redshift:  3.11 \n",
      "\n",
      "File  5  nGals =  [30195]\n",
      "reading done\n",
      "\n"
     ]
    }
   ],
   "source": [
    "#need numpy, matplotlib, astropy, scipy\n",
    "\n",
    "import numpy as np\n",
    "%matplotlib inline\n",
    "\n",
    "#import pandas as pd\n",
    "\n",
    "%pylab inline\n",
    "#import seaborn as sns\n",
    "#sns.set_style('darkgrid')\n",
    "\n",
    "import matplotlib.pyplot as plt\n",
    "import matplotlib.gridspec as gridspec\n",
    "from astropy.table import Table\n",
    "from importlib import reload\n",
    "from matplotlib.ticker import MultipleLocator, FormatStrFormatter\n",
    "from matplotlib.backends.backend_pdf import PdfPages\n",
    "from matplotlib.colors import LogNorm\n",
    "from decimal import *\n",
    "import sys\n",
    "from scipy.ndimage import zoom \n",
    "\n",
    "import procedures\n",
    "reload (procedures)\n",
    "from procedures import *\n",
    "import plots_input\n",
    "reload (plots_input)\n",
    "from plots_input import *\n",
    "\n",
    "FirstFile = 5\n",
    "LastFile =  5\n",
    "\n",
    "Volume_MR = (BoxSize_MR**3.0) * (LastFile - FirstFile + 1) / MaxTreeFiles \n",
    "#Volume_MRII = (BoxSize_MRII**3.0) * (LastFile - FirstFile + 1) / MaxTreeFiles \n",
    "\n",
    "if CatalogType=='snap':\n",
    "    from LGalaxies_Henriques2015a_struct import LGalaxiesStruct\n",
    "    from LGalaxies_Henriques2015a_struct import PropertiesToRead\n",
    "    #from LGalaxies_Henriques2015a_Rings_struct import LGalaxiesStruct\n",
    "    #from LGalaxies_Henriques2015a_Rings_struct import PropertiesToRead\n",
    "    (G_MR, SnapshotList) = read_snap(DirName_MR,FirstFile,LastFile,\n",
    "                     PropertiesToRead,LGalaxiesStruct,RedshiftsToRead,FullRedshiftList)\n",
    "    \n",
    "if CatalogType=='tree':    \n",
    "    from LGalaxies_tree_Henriques2015a_struct import LGalaxiesStruct\n",
    "    from LGalaxies_tree_Henriques2015a_struct import PropertiesToRead_tree    \n",
    "    (G_MR) = read_tree(DirName_MR,FirstFile,LastFile,\n",
    "                     PropertiesToRead_tree,LGalaxiesStruct)    \n",
    "     \n",
    "    SnapshotList = np.zeros(len(RedshiftList),dtype=np.int32)\n",
    "    for ii in range(0,len(RedshiftList)):                  \n",
    "        G0=G_MR[ np.rint(G_MR['Redshift']*100.) == RedshiftList[ii]*100. ]             \n",
    "        SnapshotList[ii]=G0['SnapNum'][0]\n",
    "#endif      \n",
    "\n",
    "print('reading done\\n')\n",
    "#print (np.log10(G_MR['DiskMass'][0:99]*1.e10))\n",
    "#print (np.log10(G_MR['BulgeMass'][0:99]*1.e10))\n",
    "#print (np.log10(G_MR['Mvir'][0:99]*1.e10))\n",
    "#print (G_MR['SnapNum'][0:99])\n",
    "\n",
    "#print (np.log10(G_MR['MetalsStellarMass'][0:99]*1.e10))\n",
    "#print (G_MR[0:5])\n",
    "#help(G_MR)\n",
    "\n",
    "\n",
    "plt.rcParams.update({'font.size': 18, 'xtick.labelsize': 18, 'ytick.labelsize': 18, 'axes.linewidth': 2, \n",
    "                     'xtick.major.size': 6, 'xtick.major.width': 1.5, \n",
    "                     'ytick.major.size': 6, 'ytick.major.width': 1.5, \n",
    "                     'xtick.minor.size': 3, 'xtick.minor.width': 1.,                   \n",
    "                     'ytick.minor.size': 3, 'ytick.minor.width': 1.})"
   ]
  },
  {
   "cell_type": "markdown",
   "metadata": {},
   "source": [
    "## Plots"
   ]
  },
  {
   "cell_type": "code",
   "execution_count": 21,
   "metadata": {
    "collapsed": false
   },
   "outputs": [
    {
     "data": {
      "text/plain": [
       "<module 'plots_input' from '/Users/BrunoHenriques/Desktop/OneDrive/Workspace/GitHub_PR_Hen15/AuxCode/Python/plots_input.py'>"
      ]
     },
     "execution_count": 21,
     "metadata": {},
     "output_type": "execute_result"
    }
   ],
   "source": [
    "import plots\n",
    "reload (plots)\n",
    "\n",
    "import plots_input\n",
    "reload(plots_input)"
   ]
  },
  {
   "cell_type": "code",
   "execution_count": 11,
   "metadata": {
    "collapsed": false,
    "scrolled": false
   },
   "outputs": [
    {
     "name": "stderr",
     "output_type": "stream",
     "text": [
      "/Users/BrunoHenriques/Desktop/OneDrive/Workspace/GitHub_PR_Hen15/AuxCode/Python/plots.py:145: RuntimeWarning: divide by zero encountered in log10\n",
      "  subplot.plot(hist[1][0:len(hist[1][:])-1]+bin/2.,np.log10(hist[0][:]/(Volume_MR*bin)),\n",
      "/Users/BrunoHenriques/anaconda/lib/python3.5/site-packages/matplotlib/collections.py:590: FutureWarning: elementwise comparison failed; returning scalar instead, but in the future will perform elementwise comparison\n",
      "  if self._edgecolors == str('face'):\n"
     ]
    },
    {
     "name": "stdout",
     "output_type": "stream",
     "text": [
      "Doing SMF\n",
      "\n",
      "All plots done\n"
     ]
    }
   ],
   "source": [
    "\n",
    "with PdfPages('./fig/plots.pdf') as pdf:  \n",
    "    import procedures\n",
    "    reload (procedures)\n",
    "    from procedures import *\n",
    "    import plots_input\n",
    "    reload (plots_input)\n",
    "    from plots_input import *\n",
    "    import plots\n",
    "    reload (plots)\n",
    "\n",
    "    if opt_stellar_mass_vs_halo_mass==1:\n",
    "        print('Doing SMHM')\n",
    "        from plots import stellar_mass_vs_halo_mass\n",
    "        ThisRedshiftList=[0.0]        \n",
    "        stellar_mass_vs_halo_mass(G_MR, ThisRedshiftList, pdf)\n",
    "    \n",
    "    if opt_stellar_mass_function==1:\n",
    "        print('Doing SMF')\n",
    "        from plots import stellar_mass_function\n",
    "        ThisRedshiftList=[0.0,1.0,2.0,3.0]        \n",
    "        stellar_mass_function(G_MR, Volume_MR, ThisRedshiftList, pdf)\n",
    "    \n",
    "    if opt_metals_vs_stellarmass==1:\n",
    "        print('Doing metals_vs_stellarmass')\n",
    "        from plots import metals_vs_stellarmass\n",
    "        ThisRedshiftList=[0.1,3.]\n",
    "        metals_vs_stellarmass(G_MR, ThisRedshiftList, pdf)\n",
    "        \n",
    "    if opt_BHBM==1:\n",
    "        print('Doing BHBM')\n",
    "        from plots import BHBM\n",
    "        ThisRedshiftList=[0.0]        \n",
    "        BHBM(G_MR, ThisRedshiftList, pdf)    \n",
    "        \n",
    "    if opt_SFRF==1:\n",
    "        print('Doing SFRF')\n",
    "        from plots import SFRF\n",
    "        ThisRedshiftList=[0.0]        \n",
    "        SFRF(G_MR, Volume_MR, ThisRedshiftList, pdf)\n",
    "        \n",
    "    if opt_gas_fraction==1:\n",
    "        print('Doing gas_fraction')\n",
    "        from plots import gas_fraction\n",
    "        ThisRedshiftList=[0.0]        \n",
    "        gas_fraction(G_MR, ThisRedshiftList, pdf)\n",
    "        \n",
    "    if opt_HI_MF==1:\n",
    "        print('Doing HI_MF')\n",
    "        from plots import HI_MF\n",
    "        ThisRedshiftList=[0.0]        \n",
    "        HI_MF(G_MR, Volume_MR, ThisRedshiftList, pdf)\n",
    "        \n",
    "    if opt_sfr_vs_stellar_mass==1:\n",
    "        print('Doing sfr_vs_stellar_mass')\n",
    "        from plots import sfr_vs_stellar_mass\n",
    "        ThisRedshiftList=[0.0,0.4,1.0,2.0,3.0]        \n",
    "        sfr_vs_stellar_mass(G_MR, ThisRedshiftList, pdf)\n",
    "        \n",
    "    if opt_ur_vs_r==1:\n",
    "        print('Doing ur_vs_r')\n",
    "        from plots import ur_vs_r\n",
    "        ThisRedshiftList=[0.0]        \n",
    "        ur_vs_r(G_MR, ThisRedshiftList, pdf)\n",
    "        \n",
    "    if opt_UVJ_colour==1:\n",
    "        print('Doing UVJ_colour')\n",
    "        from plots import UVJ_colour\n",
    "        ThisRedshiftList=[0.4,1.0,2.0,3.0]        \n",
    "        UVJ_colour(G_MR, ThisRedshiftList, pdf)\n",
    "        \n",
    "    if opt_redfraction_color_cut==1:\n",
    "        print('Doing redfraction_color_cut')\n",
    "        from plots import redfraction_color_cut\n",
    "        ThisRedshiftList=[0.0,0.4,1.0,2.0,3.0]        \n",
    "        redfraction_color_cut(G_MR, ThisRedshiftList, pdf)\n",
    "               \n",
    "    print('')\n",
    "    print('All plots done')\n",
    "        \n",
    "#end with PdfPages('./fig/plots.pdf') as pdf: "
   ]
  },
  {
   "cell_type": "code",
   "execution_count": null,
   "metadata": {
    "collapsed": true
   },
   "outputs": [],
   "source": []
  }
 ],
 "metadata": {
  "kernelspec": {
   "display_name": "Python 3",
   "language": "python",
   "name": "python3"
  },
  "language_info": {
   "codemirror_mode": {
    "name": "ipython",
    "version": 3
   },
   "file_extension": ".py",
   "mimetype": "text/x-python",
   "name": "python",
   "nbconvert_exporter": "python",
   "pygments_lexer": "ipython3",
   "version": "3.5.0"
  }
 },
 "nbformat": 4,
 "nbformat_minor": 0
}
