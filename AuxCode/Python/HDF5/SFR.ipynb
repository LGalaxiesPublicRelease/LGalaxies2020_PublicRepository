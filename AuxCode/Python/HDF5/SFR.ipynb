{
 "cells": [
  {
   "cell_type": "markdown",
   "metadata": {},
   "source": [
    "# Example to read data in HDF5 format and create a star-formation efficiency plot"
   ]
  },
  {
   "cell_type": "code",
   "execution_count": null,
   "metadata": {},
   "outputs": [],
   "source": [
    "# Imports\n",
    "import h5py\n",
    "import numpy as np\n",
    "import matplotlib\n",
    "import matplotlib.pyplot as plt\n",
    "%matplotlib inline\n",
    "matplotlib.rc('font',size=20)"
   ]
  },
  {
   "cell_type": "code",
   "execution_count": null,
   "metadata": {},
   "outputs": [],
   "source": [
    "# Parameters\n",
    "outputStub='../../../output/'\n",
    "dataset='cooling_new'\n",
    "outputDir=outputStub+dataset+'/'\n",
    "filePrefix='SA_output_'\n",
    "filePostfix='.h5'\n",
    "snap='58'\n",
    "firstFile=0\n",
    "lastFile=9"
   ]
  },
  {
   "cell_type": "code",
   "execution_count": null,
   "metadata": {},
   "outputs": [],
   "source": [
    "# First determine the size of the arrays that we need to hold the data\n",
    "nGal=0\n",
    "for iFile in range(firstFile,lastFile+1):\n",
    "    # The following line closes the file at the end of the loop\n",
    "    with h5py.File(outputDir+filePrefix+'%i'%iFile+filePostfix,'r') as f:\n",
    "        nGal+=len(f[snap])\n",
    "print('nGal=',nGal)\n",
    "\n",
    "# Declare numpy arrays to hold the data\n",
    "Type=np.empty(nGal)\n",
    "SFR=np.empty(nGal)\n",
    "StellarMass=np.empty(nGal)\n",
    "Mvir=np.empty(nGal)\n",
    "\n",
    "# Now read in the data\n",
    "iGal=0\n",
    "for iFile in range(firstFile,lastFile+1):\n",
    "    # The following line closes the file at the end of the loop\n",
    "    with h5py.File(outputDir+filePrefix+'%i'%iFile+filePostfix,'r') as f:\n",
    "        nGalFile=len(f[snap])\n",
    "        Type[iGal:iGal+nGalFile]=f[snap]['Type']\n",
    "        SFR[iGal:iGal+nGalFile]=f[snap]['Sfr']\n",
    "        StellarMass[iGal:iGal+nGalFile]=f[snap]['StellarMass']\n",
    "        Mvir[iGal:iGal+nGalFile]=f[snap]['Mvir']\n",
    "        iGal+=nGalFile"
   ]
  },
  {
   "cell_type": "code",
   "execution_count": null,
   "metadata": {},
   "outputs": [],
   "source": [
    "# Plot star-formation efficiency for central galaxy in halos (Type==0)\n",
    "index0=np.where(Type==0)[0]\n",
    "# Virial mass of halo in Msun/h\n",
    "x=1e10*StellarMass\n",
    "# SFE\n",
    "y=1e10*SFR\n",
    "plt.figure(0,figsize=(12,9))\n",
    "plt.loglog(x,y,'.',label='Satellites')\n",
    "plt.loglog(x[index0],y[index0],'.',label='Centrals')\n",
    "plt.xlabel(r'$M_*/h^{-1}M_\\odot$')\n",
    "plt.ylabel(r'SFR$/M_\\odot\\,\\mathrm{yr}^{-1}$')\n",
    "plt.legend()\n",
    "plt.title(dataset)"
   ]
  },
  {
   "cell_type": "code",
   "execution_count": null,
   "metadata": {},
   "outputs": [],
   "source": []
  }
 ],
 "metadata": {
  "language_info": {
   "name": "python",
   "pygments_lexer": "ipython3"
  }
 },
 "nbformat": 4,
 "nbformat_minor": 1
}
