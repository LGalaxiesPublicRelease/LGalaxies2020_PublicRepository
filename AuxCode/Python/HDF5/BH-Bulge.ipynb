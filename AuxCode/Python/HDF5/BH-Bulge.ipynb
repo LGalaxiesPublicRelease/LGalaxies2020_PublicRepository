{
 "cells": [
  {
   "cell_type": "markdown",
   "metadata": {},
   "source": []
  },
  {
   "cell_type": "raw",
   "metadata": {},
   "source": [
    "# BH-Bulge mass relation"
   ]
  },
  {
   "cell_type": "code",
   "execution_count": null,
   "metadata": {},
   "outputs": [],
   "source": [
    "# Imports\n",
    "import astropy.constants as c\n",
    "import astropy.units as u\n",
    "import h5py\n",
    "import numpy as np\n",
    "import matplotlib\n",
    "import matplotlib.pyplot as plt\n",
    "%matplotlib inline\n",
    "matplotlib.rc('font',size=20)"
   ]
  },
  {
   "cell_type": "code",
   "execution_count": null,
   "metadata": {},
   "outputs": [],
   "source": [
    "# Parameters\n",
    "outputDir='../../../output/Simone_dev/'\n",
    "#outputDir='../../../output/Hen15_betaprof_fixinfall_DI/'\n",
    "filePrefix='SA_output_'\n",
    "filePostfix='.h5'\n",
    "snap='58'\n",
    "firstFile=40\n",
    "lastFile=40\n",
    "xmin=1e9\n",
    "xmax=1e12\n",
    "ymin=1e5\n",
    "ymax=1e11\n",
    "massRatio=0.001"
   ]
  },
  {
   "cell_type": "code",
   "execution_count": null,
   "metadata": {},
   "outputs": [],
   "source": [
    "# First determine the size of the arrays that we need to hold the data\n",
    "nGal=0\n",
    "for iFile in range(firstFile,lastFile+1):\n",
    "    # The following line closes the file at the end of the loop\n",
    "    with h5py.File(outputDir+filePrefix+'%i'%iFile+filePostfix,'r') as f:\n",
    "        nGal+=len(f[snap])\n",
    "print('nGal=',nGal)\n",
    "\n",
    "# Declare numpy arrays to hold the data\n",
    "Type=np.empty(nGal)\n",
    "BlackHoleMass=np.empty(nGal)\n",
    "BulgeMass=np.empty(nGal)\n",
    "StellarMass=np.empty(nGal)\n",
    "Vvir=np.empty(nGal)\n",
    "\n",
    "# Now read in the data\n",
    "iGal=0\n",
    "for iFile in range(firstFile,lastFile+1):\n",
    "    # The following line closes the file at the end of the loop\n",
    "    with h5py.File(outputDir+filePrefix+'%i'%iFile+filePostfix,'r') as f:\n",
    "        nGalFile=len(f[snap])\n",
    "        Type[iGal:iGal+nGalFile]=f[snap]['Type']\n",
    "        BlackHoleMass[iGal:iGal+nGalFile]=f[snap]['BlackHoleMass']\n",
    "        BulgeMass[iGal:iGal+nGalFile]=f[snap]['BulgeMass']\n",
    "        StellarMass[iGal:iGal+nGalFile]=f[snap]['StellarMass']\n",
    "        Vvir[iGal:iGal+nGalFile]=f[snap]['Vvir']\n",
    "        iGal+=nGalFile"
   ]
  },
  {
   "cell_type": "code",
   "execution_count": null,
   "metadata": {},
   "outputs": [],
   "source": [
    "# Plot star-formation efficiency for central galaxy in halos (Type==0)\n",
    "index0=np.where(Type==0)[0]\n",
    "# Virial temperatue of halo in keV\n",
    "plt.figure(0,figsize=(8,6))\n",
    "plt.loglog(BulgeMass[index0]*1e10,BlackHoleMass[index0]*1e10,'.')\n",
    "plt.xlabel(r'$M_\\mathrm{Bulge}/h^{-1}M_\\odot$')\n",
    "plt.ylabel(r'$M_\\mathrm{BH}/h^{-1}M_\\odot$')\n",
    "plt.plot([xmin,xmax],[massRatio*xmin,massRatio*xmax])\n",
    "plt.xlim([xmin,xmax])\n",
    "plt.ylim([ymin,ymax])\n",
    "plt.savefig('figs/BHBulge_'+outputDir.split('/')[-2]+'.png')"
   ]
  },
  {
   "cell_type": "code",
   "execution_count": null,
   "metadata": {},
   "outputs": [],
   "source": []
  }
 ],
 "metadata": {
  "language_info": {
   "name": "python",
   "pygments_lexer": "ipython3"
  }
 },
 "nbformat": 4,
 "nbformat_minor": 1
}
