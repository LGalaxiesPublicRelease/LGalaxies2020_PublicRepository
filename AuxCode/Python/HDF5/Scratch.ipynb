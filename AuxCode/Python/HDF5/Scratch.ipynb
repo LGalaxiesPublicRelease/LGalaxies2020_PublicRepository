{
 "cells": [
  {
   "cell_type": "markdown",
   "metadata": {},
   "source": []
  },
  {
   "cell_type": "raw",
   "metadata": {},
   "source": [
    "# Read data in HDF5 format and create a plot"
   ]
  },
  {
   "cell_type": "code",
   "execution_count": null,
   "metadata": {},
   "outputs": [],
   "source": [
    "# Imports\n",
    "import astropy.constants as c\n",
    "import astropy.units as u\n",
    "import h5py\n",
    "import numpy as np\n",
    "import matplotlib\n",
    "import matplotlib.pyplot as plt\n",
    "%matplotlib inline\n",
    "matplotlib.rc('font',size=20)"
   ]
  },
  {
   "cell_type": "code",
   "execution_count": null,
   "metadata": {},
   "outputs": [],
   "source": [
    "# Parameters\n",
    "outputDir='../../../output/cooling_test_new/'\n",
    "filePrefix='SA_output_'\n",
    "filePostfix='.h5'\n",
    "snap='58'\n",
    "firstFile=40\n",
    "lastFile=40\n",
    "xmin=1e12\n",
    "xmax=1e15\n",
    "ymin0=1e9\n",
    "ymax0=1e14\n",
    "ymin1=0\n",
    "ymax1=0.2\n",
    "baryonFrac=0.155 # Read from header!\n",
    "Hubble_h=0.673\n",
    "Central=True"
   ]
  },
  {
   "cell_type": "code",
   "execution_count": null,
   "metadata": {},
   "outputs": [],
   "source": [
    "# First determine the size of the arrays that we need to hold the data\n",
    "nGal=0\n",
    "for iFile in range(firstFile,lastFile+1):\n",
    "    # The following line closes the file at the end of the loop\n",
    "    with h5py.File(outputDir+filePrefix+'%i'%iFile+filePostfix,'r') as f:\n",
    "        nGal+=len(f[snap])\n",
    "print('nGal=',nGal)\n",
    "\n",
    "# Declare numpy arrays to hold the data\n",
    "Type=np.empty(nGal)\n",
    "Mvir=np.empty(nGal)\n",
    "Rvir=np.empty(nGal)\n",
    "Vvir=np.empty(nGal)\n",
    "ColdGasRadius=np.empty(nGal)\n",
    "\n",
    "# Now read in the data\n",
    "iGal=0\n",
    "for iFile in range(firstFile,lastFile+1):\n",
    "    # The following line closes the file at the end of the loop\n",
    "    with h5py.File(outputDir+filePrefix+'%i'%iFile+filePostfix,'r') as f:\n",
    "        nGalFile=len(f[snap])\n",
    "        Type[iGal:iGal+nGalFile]=f[snap]['Type']\n",
    "        Mvir[iGal:iGal+nGalFile]=f[snap]['Mvir']\n",
    "        Rvir[iGal:iGal+nGalFile]=f[snap]['Rvir']\n",
    "        Vvir[iGal:iGal+nGalFile]=f[snap]['Vvir']\n",
    "        ColdGasRadius[iGal:iGal+nGalFile]=f[snap]['ColdGasRadius']\n",
    "        iGal+=nGalFile\n",
    "        \n",
    "if Central:\n",
    "    Index=np.where(Type==0)\n",
    "    Mvir=Mvir[Index]\n",
    "    Rvir=Rvir[Index]\n",
    "    Vvir=Vvir[Index]\n",
    "    ColdGasRadius=ColdGasRadius[Index]"
   ]
  },
  {
   "cell_type": "code",
   "execution_count": null,
   "metadata": {},
   "outputs": [],
   "source": [
    "tHalo=(Rvir*u.Mpc/Hubble_h/(Vvir*u.km/u.s)).to(u.yr)\n",
    "tColdGas=(ColdGasRadius*u.Mpc/Hubble_h/(Vvir*u.km/u.s)).to(u.yr)\n",
    "\n",
    "plt.figure(0,figsize=(8,6))\n",
    "#plt.subplot(1,2,1)\n",
    "#plt.loglog(Mvir*1e10,HotGas*1e10,'.')\n",
    "#plt.xlabel(r'$M_\\mathrm{200c}/h^{-1}M_\\odot$')\n",
    "#plt.ylabel(r'$M_\\mathrm{HotGas}/h^{-1}M_\\odot$')\n",
    "#plt.plot([xmin,xmax],[baryonFrac*xmin,baryonFrac*xmax])\n",
    "#plt.xlim([xmin,xmax])\n",
    "#plt.ylim([ymin0,ymax0])\n",
    "#plt.subplot(1,2,2)\n",
    "plt.loglog(Mvir*1e10,tHalo,'.',label='Halo')\n",
    "plt.loglog(Mvir*1e10,tColdGas,'.',label='ColdGas')\n",
    "plt.xlabel(r'$M_\\mathrm{200c}/h^{-1}M_\\odot$')\n",
    "plt.ylabel(r'$t_\\mathrm{dyn}/\\mathrm{yr}$')\n",
    "#plt.plot([xmin,xmax],[baryonFrac,baryonFrac])\n",
    "plt.xlim([xmin,xmax])\n",
    "#plt.ylim([ymin1,ymax1])\n",
    "plt.legend()\n",
    "\n",
    "#plt.savefig('figs/HotGas_'+outputDir.split('/')[-2]+'.png')"
   ]
  },
  {
   "cell_type": "code",
   "execution_count": null,
   "metadata": {},
   "outputs": [],
   "source": []
  }
 ],
 "metadata": {
  "language_info": {
   "name": "python",
   "pygments_lexer": "ipython3"
  }
 },
 "nbformat": 4,
 "nbformat_minor": 1
}
