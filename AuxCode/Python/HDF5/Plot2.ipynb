{
 "cells": [
  {
   "cell_type": "markdown",
   "metadata": {},
   "source": []
  },
  {
   "cell_type": "raw",
   "metadata": {},
   "source": [
    "# Example to read data in HDF5 format and plot 2 quantities against one another"
   ]
  },
  {
   "cell_type": "code",
   "execution_count": null,
   "metadata": {},
   "outputs": [],
   "source": [
    "# Imports\n",
    "import astropy.constants as c\n",
    "import astropy.units as u\n",
    "import h5py\n",
    "import numpy as np\n",
    "import matplotlib\n",
    "import matplotlib.pyplot as plt\n",
    "%matplotlib inline\n",
    "matplotlib.rc('font',size=20)"
   ]
  },
  {
   "cell_type": "code",
   "execution_count": null,
   "metadata": {},
   "outputs": [],
   "source": [
    "# Parameters\n",
    "outputDir='../../../output/Hen15_betaprof/'\n",
    "#outputDir='../../../output/Hen15_betaprof_fixinfall/'\n",
    "filePrefix='SA_output_'\n",
    "filePostfix='.h5'\n",
    "snap='58'\n",
    "firstFile=0\n",
    "lastFile=9\n",
    "Prop1='Mvir'\n",
    "Prop2='HotGas'\n",
    "CentralsOnly=True"
   ]
  },
  {
   "cell_type": "code",
   "execution_count": null,
   "metadata": {},
   "outputs": [],
   "source": [
    "# First determine the size of the arrays that we need to hold the data\n",
    "nGal=0\n",
    "for iFile in range(firstFile,lastFile+1):\n",
    "    # The following line closes the file at the end of the loop\n",
    "    with h5py.File(outputDir+filePrefix+'%i'%iFile+filePostfix,'r') as f:\n",
    "        nGal+=len(f[snap])\n",
    "print('nGal=',nGal)\n",
    "\n",
    "# Declare numpy arrays to hold the data\n",
    "Type=np.empty(nGal)\n",
    "x=np.empty(nGal)\n",
    "y=np.empty(nGal)\n",
    "\n",
    "# Now read in the data\n",
    "iGal=0\n",
    "for iFile in range(firstFile,lastFile+1):\n",
    "    # The following line closes the file at the end of the loop\n",
    "    with h5py.File(outputDir+filePrefix+'%i'%iFile+filePostfix,'r') as f:\n",
    "        nGalFile=len(f[snap])\n",
    "        Type[iGal:iGal+nGalFile]=f[snap]['Type']\n",
    "        x[iGal:iGal+nGalFile]=f[snap][Prop1]\n",
    "        y[iGal:iGal+nGalFile]=f[snap][Prop2]\n",
    "        iGal+=nGalFile"
   ]
  },
  {
   "cell_type": "code",
   "execution_count": null,
   "metadata": {},
   "outputs": [],
   "source": [
    "# Plot\n",
    "if CentralsOnly:\n",
    "    index0=np.where(Type==0)[0]\n",
    "    x=x[index0]\n",
    "    y=y[index0]\n",
    "plt.figure(0,figsize=(12,9))\n",
    "plt.loglog(x,y,'.')\n",
    "plt.xlabel(Prop1)\n",
    "plt.ylabel(Prop2)\n",
    "xmin=np.min(x)\n",
    "xmax=np.max(x)\n",
    "plt.plot([xmin,xmax],[xmin,xmax],'k-')\n",
    "plt.savefig('figs/'+Prop1+'_'+Prop2+'_'+outputDir.split('/')[-2]+'.png')"
   ]
  }
 ],
 "metadata": {
  "language_info": {
   "name": "python",
   "pygments_lexer": "ipython3"
  }
 },
 "nbformat": 4,
 "nbformat_minor": 0
}
