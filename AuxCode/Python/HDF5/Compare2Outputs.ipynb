{
 "cells": [
  {
   "cell_type": "markdown",
   "metadata": {},
   "source": [
    "# Script to read in 2 data sets and compare them\n",
    "\n",
    "Note: will get nonsense unless the two have the same number of galaxies"
   ]
  },
  {
   "cell_type": "code",
   "execution_count": null,
   "metadata": {},
   "outputs": [],
   "source": [
    "# Imports\n",
    "import h5py\n",
    "import numpy as np\n",
    "import matplotlib\n",
    "import matplotlib.pyplot as plt\n",
    "%matplotlib inline\n",
    "matplotlib.rc('font',size=20)"
   ]
  },
  {
   "cell_type": "code",
   "execution_count": null,
   "metadata": {},
   "outputs": [],
   "source": [
    "# Parameters\n",
    "outputDir='../../../output/cooling_'\n",
    "dataSet1='old'\n",
    "dataSet2='new'\n",
    "filePrefix='SA_output_'\n",
    "filePostfix='.h5'\n",
    "snap='58'\n",
    "firstFile=40\n",
    "lastFile=40\n",
    "nGalKeep=4800\n",
    "property='XrayLum'\n",
    "#property='HotGas'\n",
    "#property='Vvir'\n",
    "logplot=False\n",
    "#logplot=True"
   ]
  },
  {
   "cell_type": "code",
   "execution_count": null,
   "metadata": {},
   "outputs": [],
   "source": [
    "# Read in first data set\n",
    "dataDir=outputDir+dataSet1+'/'\n",
    "# First determine the size of the arrays that we need to hold the data\n",
    "nGal1=0\n",
    "for iFile in range(firstFile,lastFile+1):\n",
    "    # The following line closes the file at the end of the loop\n",
    "    with h5py.File(dataDir+filePrefix+'%i'%iFile+filePostfix,'r') as f:\n",
    "        nGal1+=len(f[snap])\n",
    "print('nGal1=',nGal1)\n",
    "\n",
    "# Declare numpy arrays to hold the data\n",
    "Prop1=np.empty(nGal1)\n",
    "\n",
    "# Now read in the data\n",
    "iGal=0\n",
    "for iFile in range(firstFile,lastFile+1):\n",
    "    # The following line closes the file at the end of the loop\n",
    "    with h5py.File(dataDir+filePrefix+'%i'%iFile+filePostfix,'r') as f:\n",
    "        nGalFile=len(f[snap])\n",
    "        Prop1[iGal:iGal+nGalFile]=f[snap][property]\n",
    "        iGal+=nGalFile\n",
    "        \n",
    "# Read in second data set\n",
    "dataDir=outputDir+dataSet2+'/'\n",
    "# First determine the size of the arrays that we need to hold the data\n",
    "nGal2=0\n",
    "for iFile in range(firstFile,lastFile+1):\n",
    "    # The following line closes the file at the end of the loop\n",
    "    with h5py.File(dataDir+filePrefix+'%i'%iFile+filePostfix,'r') as f:\n",
    "        nGal2+=len(f[snap])\n",
    "print('nGal2=',nGal2)\n",
    "\n",
    "# Declare numpy arrays to hold the data\n",
    "Prop2=np.empty(nGal1)\n",
    "\n",
    "# Now read in the data\n",
    "iGal=0\n",
    "for iFile in range(firstFile,lastFile+1):\n",
    "    # The following line closes the file at the end of the loop\n",
    "    with h5py.File(dataDir+filePrefix+'%i'%iFile+filePostfix,'r') as f:\n",
    "        nGalFile=len(f[snap])\n",
    "        Prop2[iGal:iGal+nGalFile]=f[snap][property]\n",
    "        iGal+=nGalFile"
   ]
  },
  {
   "cell_type": "code",
   "execution_count": null,
   "metadata": {},
   "outputs": [],
   "source": [
    "if nGal1 != nGal2:\n",
    "    Prop1=Prop1[0:nGalKeep]\n",
    "    Prop2=Prop2[0:nGalKeep]\n",
    "\n",
    "#Prop1=36.345*Prop1**2\n",
    "#Prop2=36.345*Prop2**2"
   ]
  },
  {
   "cell_type": "code",
   "execution_count": null,
   "metadata": {},
   "outputs": [],
   "source": [
    "# Plot the two properties agains one another (only really makes sense if galaxy numbers are equal)\n",
    "plt.figure(0,figsize=(18,6))\n",
    "plt.subplot(1,2,1)\n",
    "if logplot:\n",
    "    plt.loglog(Prop1,Prop2,'.')\n",
    "else:\n",
    "    plt.plot(Prop1,Prop2,'.')\n",
    "plt.xlabel(dataSet1)\n",
    "plt.ylabel(dataSet2)\n",
    "plt.title(property)\n",
    "plt.subplot(1,2,2)\n",
    "if logplot:\n",
    "    plt.loglog(Prop1,Prop2/Prop1,'.')\n",
    "    plt.ylabel(dataSet2+'/'+dataSet1)\n",
    "else:\n",
    "    plt.plot(Prop1,Prop2-Prop1,'.')\n",
    "    plt.ylabel(dataSet2+'-'+dataSet1)\n",
    "    plt.plot(Prop1,0.*Prop1,'k-')\n",
    "plt.xlabel(dataSet1)\n",
    "plt.title(property)"
   ]
  },
  {
   "cell_type": "code",
   "execution_count": null,
   "metadata": {},
   "outputs": [],
   "source": [
    "max(Prop1-Prop2)"
   ]
  },
  {
   "cell_type": "code",
   "execution_count": null,
   "metadata": {},
   "outputs": [],
   "source": []
  }
 ],
 "metadata": {
  "language_info": {
   "name": "python",
   "pygments_lexer": "ipython3"
  }
 },
 "nbformat": 4,
 "nbformat_minor": 1
}
