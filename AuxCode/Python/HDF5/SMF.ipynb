{
 "cells": [
  {
   "cell_type": "markdown",
   "metadata": {},
   "source": []
  },
  {
   "cell_type": "raw",
   "metadata": {},
   "source": [
    "# Read data in HDF5 format and create a Stellar Mass Function plot"
   ]
  },
  {
   "cell_type": "code",
   "execution_count": null,
   "metadata": {},
   "outputs": [],
   "source": [
    "# Imports\n",
    "import astropy.constants as c\n",
    "import astropy.units as u\n",
    "import h5py\n",
    "import numpy as np\n",
    "import matplotlib\n",
    "import matplotlib.pyplot as plt\n",
    "from astropy.table import Table\n",
    "%matplotlib inline\n",
    "matplotlib.rc('font',size=20)"
   ]
  },
  {
   "cell_type": "code",
   "execution_count": null,
   "metadata": {},
   "outputs": [],
   "source": [
    "# Parameters\n",
    "outputStub='../../../output/'\n",
    "dataset='cooling_new'\n",
    "outputDir=outputStub+dataset+'/'\n",
    "#outputDir='../../../output/merge/hack1/'\n",
    "obsDir='../../../MCMC/ObsConstraints/'\n",
    "filePrefix='SA_output_'\n",
    "filePostfix='.h5'\n",
    "snap='58'\n",
    "firstFile=0\n",
    "lastFile=9\n",
    "maxFile=512\n",
    "# Bins for hostogram and plotting\n",
    "binperdex=10\n",
    "xrange=np.array([7,12])\n",
    "nbin=(xrange[1]-xrange[0])*binperdex\n",
    "# Simulation parameters (read from file!)\n",
    "hubble=0.673\n",
    "boxside=480.28  # Units Mpc/h "
   ]
  },
  {
   "cell_type": "code",
   "execution_count": null,
   "metadata": {},
   "outputs": [],
   "source": [
    "# First determine the size of the arrays that we need to hold the data\n",
    "nGal=0\n",
    "for iFile in range(firstFile,lastFile+1):\n",
    "    # The following line closes the file at the end of the loop\n",
    "    with h5py.File(outputDir+filePrefix+'%i'%iFile+filePostfix,'r') as f:\n",
    "        nGal+=len(f[snap])\n",
    "print('nGal=',nGal)\n",
    "\n",
    "# Declare numpy arrays to hold the data\n",
    "Type=np.empty(nGal)\n",
    "StellarMass=np.empty(nGal)\n",
    "\n",
    "# Now read in the data\n",
    "iGal=0\n",
    "for iFile in range(firstFile,lastFile+1):\n",
    "    # The following line closes the file at the end of the loop\n",
    "    with h5py.File(outputDir+filePrefix+'%i'%iFile+filePostfix,'r') as f:\n",
    "        nGalFile=len(f[snap])\n",
    "        Type[iGal:iGal+nGalFile]=f[snap]['Type']\n",
    "        StellarMass[iGal:iGal+nGalFile]=f[snap]['StellarMass']\n",
    "        iGal+=nGalFile"
   ]
  },
  {
   "cell_type": "code",
   "execution_count": null,
   "metadata": {},
   "outputs": [],
   "source": [
    "# Put into bins and normalise to number per unit volume (Mpc/h) per dex\n",
    "nobj,bins,junk=plt.hist(np.log10(StellarMass*1e10*hubble), bins=nbin, range=xrange, log=True)\n",
    "y=nobj*maxFile/((lastFile-firstFile+1)*boxside**3)*binperdex\n",
    "\n",
    "# Plot at centre of bins\n",
    "x=0.5*(bins[:-1]+bins[1:])\n"
   ]
  },
  {
   "cell_type": "code",
   "execution_count": null,
   "metadata": {},
   "outputs": [],
   "source": [
    "# Plot SMF of data\n",
    "plt.figure(0,figsize=(12,9))\n",
    "plt.semilogy(x,y,'-r',label='StellarMass')\n",
    "plt.axis([12.4,7,10.**(-5.9),10.**0.5])\n",
    "plt.xlabel(r'$\\log_{10}(M_*/h^{-2}M_\\odot)$')\n",
    "plt.ylabel(r'$\\log_{10}(N/(\\mathrm{dex}\\ (h^{-1}\\mathrm{Mpc})^3)$')\n",
    "plt.grid(True)\n",
    "\n",
    "# Plot Observations\n",
    "obsFile=obsDir+'StellarMassFunction_z0.00.txt'\n",
    "fobs = open(obsFile, 'r')     \n",
    "nline = int(fobs.readline())\n",
    "obs=np.empty([nline,4])\n",
    "for iline in range(nline): obs[iline,:]=fobs.readline().split()\n",
    "fobs.close()\n",
    "plt.errorbar((obs[:,0]+obs[:,1])/2.,obs[:,2],xerr=(obs[:,1]-obs[:,0])/2.,yerr=obs[:,3],\n",
    "                 fmt='o', markersize=5, ecolor='blue', color='blue',label='MCMC fitting data')\n",
    "\n",
    "plt.legend()\n",
    "plt.title(dataset)\n",
    "plt.savefig('figs/SMF_'+outputDir.split('/')[-2]+'.png')"
   ]
  },
  {
   "cell_type": "code",
   "execution_count": null,
   "metadata": {},
   "outputs": [],
   "source": []
  }
 ],
 "metadata": {
  "language_info": {
   "name": "python",
   "pygments_lexer": "ipython3"
  }
 },
 "nbformat": 4,
 "nbformat_minor": 1
}
