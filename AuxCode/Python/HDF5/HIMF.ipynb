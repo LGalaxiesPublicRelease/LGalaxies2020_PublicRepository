{
 "cells": [
  {
   "cell_type": "markdown",
   "metadata": {},
   "source": [
    "# ColdGas Mass Function"
   ]
  },
  {
   "cell_type": "code",
   "execution_count": null,
   "metadata": {},
   "outputs": [],
   "source": [
    "# Imports\n",
    "import astropy.constants as c\n",
    "import astropy.units as u\n",
    "import h5py\n",
    "import numpy as np\n",
    "import matplotlib\n",
    "import matplotlib.pyplot as plt\n",
    "from astropy.table import Table\n",
    "%matplotlib inline\n",
    "matplotlib.rc('font',size=20)"
   ]
  },
  {
   "cell_type": "code",
   "execution_count": null,
   "metadata": {},
   "outputs": [],
   "source": [
    "# Parameters\n",
    "outputDir='../../../output/Hen15/'\n",
    "#outputDir='../../../output/Hen15_betaprof_fixinfall/'\n",
    "obsDir='../../../../Obsdata/'\n",
    "filePrefix='SA_output_'\n",
    "filePostfix='.h5'\n",
    "snap='58'\n",
    "firstFile=0\n",
    "lastFile=9\n",
    "maxFile=512\n",
    "# Bins for hostogram and plotting\n",
    "binperdex=10\n",
    "xrange=np.array([7,11])\n",
    "nbin=(xrange[1]-xrange[0])*binperdex\n",
    "# Simulation parameters (read from file!)\n",
    "hubble=0.673\n",
    "boxside=480.28  # Units Mpc/h "
   ]
  },
  {
   "cell_type": "code",
   "execution_count": null,
   "metadata": {},
   "outputs": [],
   "source": [
    "# First determine the size of the arrays that we need to hold the data\n",
    "nGal=0\n",
    "for iFile in range(firstFile,lastFile+1):\n",
    "    # The following line closes the file at the end of the loop\n",
    "    with h5py.File(outputDir+filePrefix+'%i'%iFile+filePostfix,'r') as f:\n",
    "        nGal+=len(f[snap])\n",
    "print('nGal=',nGal)\n",
    "\n",
    "# Declare numpy arrays to hold the data\n",
    "Type=np.empty(nGal)\n",
    "ColdGas=np.empty(nGal)\n",
    "\n",
    "# Now read in the data\n",
    "iGal=0\n",
    "for iFile in range(firstFile,lastFile+1):\n",
    "    # The following line closes the file at the end of the loop\n",
    "    with h5py.File(outputDir+filePrefix+'%i'%iFile+filePostfix,'r') as f:\n",
    "        nGalFile=len(f[snap])\n",
    "        Type[iGal:iGal+nGalFile]=f[snap]['Type']\n",
    "        ColdGas[iGal:iGal+nGalFile]=f[snap]['ColdGas']\n",
    "        iGal+=nGalFile"
   ]
  },
  {
   "cell_type": "code",
   "execution_count": null,
   "metadata": {},
   "outputs": [],
   "source": [
    "# Put into bins and normalise to number per unit volume (Mpc/h) per dex\n",
    "nobj,bins,junk=plt.hist(np.log10(0.54*ColdGas*1e10*hubble), bins=nbin, range=xrange, log=True)\n",
    "y=nobj*maxFile/((lastFile-firstFile+1)*boxside**3)*binperdex\n",
    "\n",
    "# Plot at centre of bins\n",
    "x=0.5*(bins[:-1]+bins[1:])\n"
   ]
  },
  {
   "cell_type": "code",
   "execution_count": null,
   "metadata": {},
   "outputs": [],
   "source": [
    "# Plot SMF of data\n",
    "plt.figure(0,figsize=(12,9))\n",
    "plt.semilogy(x,y,'-r',label='0.54*ColdGas')\n",
    "plt.axis([11.4,7,10.**(-5.9),10.**0.5])\n",
    "plt.xlabel(r'$\\log_{10}(M_\\mathrm{ColdGas}/h^{-2}M_\\odot)$')\n",
    "plt.ylabel(r'$\\log_{10}(N/(\\mathrm{dex}\\ (h^{-1}\\mathrm{Mpc})^3)$')\n",
    "plt.grid(True)\n",
    "\n",
    "# Plot Zwaan05 Observations\n",
    "obs_hlog3=3*np.log10(0.75)\n",
    "obsFile=obsDir+'zwaan2005.txt'\n",
    "obs=np.loadtxt(obsFile,skiprows=1)\n",
    "obs_x = obs[:,0]\n",
    "obs_y = 10**(obs[:,1]-obs_hlog3)\n",
    "obs_y_err = [10**(obs[:,1]+obs[:,2]-obs_hlog3),10**(obs[:,1]+obs[:,3]-obs_hlog3)]\n",
    "plt.errorbar(obs_x,obs_y,yerr=obs_y_err,fmt='o', markersize=5, ecolor='blue', color='blue',label='Zwaan05')\n",
    "# Plot Haynes11 observations\n",
    "obs_hlog=np.log10(0.704)\n",
    "obs_hlog3=3.*obs_hlog\n",
    "obsFile=obsDir+'haynes2011_gmf.txt'\n",
    "obs=np.loadtxt(obsFile)\n",
    "obs_x = obs[:,0]+2*obs_hlog\n",
    "obs_y = 10**(obs[:,1]-obs_hlog3)\n",
    "obs_y_err = [10**(obs[:,1]+obs[:,2]-obs_hlog3),10**(obs[:,1]+obs[:,3]-obs_hlog3)]\n",
    "plt.errorbar(obs_x,obs_y,yerr=obs_y_err,fmt='d', markersize=5, ecolor='green', color='green',label='Haynes11')\n",
    "\n",
    "plt.legend()\n",
    "plt.savefig('figs/HIMF_'+outputDir.split('/')[-2]+'.png')"
   ]
  }
 ],
 "metadata": {
  "language_info": {
   "name": "python",
   "pygments_lexer": "ipython3"
  }
 },
 "nbformat": 4,
 "nbformat_minor": 1
}
