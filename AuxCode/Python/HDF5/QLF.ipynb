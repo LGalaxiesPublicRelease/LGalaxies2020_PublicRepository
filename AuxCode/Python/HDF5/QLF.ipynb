{
 "cells": [
  {
   "cell_type": "markdown",
   "metadata": {},
   "source": [
    "# Quasar luminosity function"
   ]
  },
  {
   "cell_type": "code",
   "execution_count": null,
   "metadata": {},
   "outputs": [],
   "source": [
    "# Imports\n",
    "import astropy.constants as c\n",
    "import astropy.units as u\n",
    "import h5py\n",
    "import numpy as np\n",
    "import matplotlib\n",
    "import matplotlib.pyplot as plt\n",
    "from astropy.table import Table\n",
    "%matplotlib inline\n",
    "matplotlib.rc('font',size=20)"
   ]
  },
  {
   "cell_type": "code",
   "execution_count": null,
   "metadata": {},
   "outputs": [],
   "source": [
    "# Parameters\n",
    "outputStub='../../../output/'\n",
    "dataset='cooling_old_detailedMMR'\n",
    "#dateset='Hen15_sfh2'\n",
    "outputDir=outputStub+dataset+'/'\n",
    "filePrefix='SA_output_'\n",
    "filePostfix='.h5'\n",
    "snap='58'\n",
    "firstFile=5\n",
    "lastFile=5\n",
    "maxFile=512\n",
    "# Bins for hostogram and plotting\n",
    "binperdex=5\n",
    "xrange=np.array([9,13])\n",
    "nbin=(xrange[1]-xrange[0])*binperdex\n",
    "# Simulation parameters (read from file!)\n",
    "hubble=0.673\n",
    "boxside=480.28  # Units Mpc/h "
   ]
  },
  {
   "cell_type": "code",
   "execution_count": null,
   "metadata": {},
   "outputs": [],
   "source": [
    "# First determine the size of the arrays that we need to hold the data\n",
    "nGal=0\n",
    "for iFile in range(firstFile,lastFile+1):\n",
    "    # The following line closes the file at the end of the loop\n",
    "    with h5py.File(outputDir+filePrefix+'%i'%iFile+filePostfix,'r') as f:\n",
    "        nGal+=len(f[snap])\n",
    "print('nGal=',nGal)\n",
    "\n",
    "# Declare numpy arrays to hold the data\n",
    "Type=np.empty(nGal)\n",
    "StellarMass=np.empty(nGal)\n",
    "QAR=np.empty(nGal)\n",
    "RAR=np.empty(nGal)\n",
    "\n",
    "# Now read in the data\n",
    "iGal=0\n",
    "for iFile in range(firstFile,lastFile+1):\n",
    "    # The following line closes the file at the end of the loop\n",
    "    with h5py.File(outputDir+filePrefix+'%i'%iFile+filePostfix,'r') as f:\n",
    "        nGalFile=len(f[snap])\n",
    "        Type[iGal:iGal+nGalFile]=f[snap]['Type']\n",
    "        StellarMass[iGal:iGal+nGalFile]=f[snap]['StellarMass']\n",
    "        QAR[iGal:iGal+nGalFile]=f[snap]['QuasarAccretionRate']\n",
    "        RAR[iGal:iGal+nGalFile]=f[snap]['RadioAccretionRate']\n",
    "        iGal+=nGalFile"
   ]
  },
  {
   "cell_type": "code",
   "execution_count": null,
   "metadata": {},
   "outputs": [],
   "source": [
    "qlf=0.1*2e30*(3e8)**2/(3.16e7*4e26)*(QAR+RAR)\n",
    "\n",
    "# Put into bins and normalise to number per unit volume (Mpc/h) per dex\n",
    "nobj,bins,junk=plt.hist(np.log10(qlf), bins=nbin, range=xrange, log=True)\n",
    "y=nobj*maxFile/((lastFile-firstFile+1)*boxside**3)*binperdex\n",
    "\n",
    "# Plot at centre of bins\n",
    "x=0.5*(bins[:-1]+bins[1:])\n"
   ]
  },
  {
   "cell_type": "code",
   "execution_count": null,
   "metadata": {},
   "outputs": [],
   "source": [
    "# Plot SMF of data\n",
    "plt.figure(0,figsize=(12,9))\n",
    "plt.semilogy(x,y,'-r',label='Quasar luminosity function')\n",
    "plt.semilogy(x,y,'dr',label='Quasar luminosity function')\n",
    "plt.axis([8.5,13.5,1e-6,1e-2])\n",
    "plt.xlabel(r'$\\log_{10}(L_\\mathrm{AGN}/L_\\odot)$')\n",
    "plt.ylabel(r'$\\log_{10}(N/(\\mathrm{dex}\\ (h^{-1}\\mathrm{Mpc})^3)$')\n",
    "plt.grid(True)\n",
    "plt.title(dataset)\n",
    "plt.legend()\n",
    "plt.savefig('figs/QLF_'+outputDir.split('/')[-2]+'.png')"
   ]
  },
  {
   "cell_type": "code",
   "execution_count": null,
   "metadata": {},
   "outputs": [],
   "source": []
  }
 ],
 "metadata": {
  "language_info": {
   "name": "python",
   "pygments_lexer": "ipython3"
  }
 },
 "nbformat": 4,
 "nbformat_minor": 1
}
