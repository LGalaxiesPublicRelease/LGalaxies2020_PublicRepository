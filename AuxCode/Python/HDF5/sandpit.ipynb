{
 "cells": [
  {
   "cell_type": "markdown",
   "metadata": {},
   "source": [
    "# Example to read data in HDF5 format and create a star-formation efficiency plot"
   ]
  },
  {
   "cell_type": "code",
   "execution_count": null,
   "metadata": {},
   "outputs": [],
   "source": [
    "# Imports\n",
    "import astropy.constants as c\n",
    "import astropy.units as u\n",
    "import h5py\n",
    "import numpy as np\n",
    "import matplotlib\n",
    "import matplotlib.pyplot as plt\n",
    "%matplotlib inline\n",
    "matplotlib.rc('font',size=20)"
   ]
  },
  {
   "cell_type": "code",
   "execution_count": null,
   "metadata": {},
   "outputs": [],
   "source": [
    "# Parameters\n",
    "outputDir='../../../output/cooling_new/'\n",
    "#outputDir='../../../output/new/'\n",
    "filePrefix='SA_output_'\n",
    "filePostfix='.h5'\n",
    "snap='58'\n",
    "firstFile=0\n",
    "lastFile=9\n",
    "hubble=0.673\n",
    "hubble_units=0\n",
    "xrange=[0.1,10]\n",
    "yrange=[40,50]\n",
    "pngfile='figs/Hen15_lxtx.png'"
   ]
  },
  {
   "cell_type": "code",
   "execution_count": null,
   "metadata": {},
   "outputs": [],
   "source": [
    "# First determine the size of the arrays that we need to hold the data\n",
    "nGal=0\n",
    "for iFile in range(firstFile,lastFile+1):\n",
    "    # The following line closes the file at the end of the loop\n",
    "    with h5py.File(outputDir+filePrefix+'%i'%iFile+filePostfix,'r') as f:\n",
    "        nGal+=len(f[snap])\n",
    "        if iFile == firstFile: print(list(f[snap].attrs.values()))\n",
    "print('nGal=',nGal)\n",
    "\n",
    "# Declare numpy arrays to hold the data\n",
    "Type=np.empty(nGal)\n",
    "Mvir=np.empty(nGal)\n",
    "Rvir=np.empty(nGal)\n",
    "Vvir=np.empty(nGal)\n",
    "XrayLum=np.empty(nGal)\n",
    "\n",
    "# Now read in the data\n",
    "iGal=0\n",
    "for iFile in range(firstFile,lastFile+1):\n",
    "    # The following line closes the file at the end of the loop\n",
    "    with h5py.File(outputDir+filePrefix+'%i'%iFile+filePostfix,'r') as f:\n",
    "        nGalFile=len(f[snap])\n",
    "        Type[iGal:iGal+nGalFile]=f[snap]['Type']\n",
    "        Mvir[iGal:iGal+nGalFile]=f[snap]['Mvir']*1e10\n",
    "        Rvir[iGal:iGal+nGalFile]=f[snap]['Rvir']\n",
    "        Vvir[iGal:iGal+nGalFile]=f[snap]['Vvir']\n",
    "        XrayLum[iGal:iGal+nGalFile]=f[snap]['XrayLum']\n",
    "        iGal+=nGalFile"
   ]
  },
  {
   "cell_type": "code",
   "execution_count": null,
   "metadata": {},
   "outputs": [],
   "source": [
    "# Check that GM/R=V**2\n",
    "# (c.G*c.M_sun*u.s**2/(u.Mpc*u.km**2)).si*Mvir/(Rvir*Vvir**2)"
   ]
  },
  {
   "cell_type": "code",
   "execution_count": null,
   "metadata": {},
   "outputs": [],
   "source": [
    "mu=0.6\n",
    "mumH=mu*c.u\n",
    "kTfac=(c.G*c.M_sun*mumH/(2.*u.Mpc*u.keV)).si\n",
    "# in units of keV\n",
    "kTX=kTfac*Mvir/Rvir\n",
    "\n",
    "Xlabel=r'k$_BT_\\mathrm{X}/$keV'\n",
    "# Apply appropriate hubble correction factors\n",
    "if hubble_units==0 or hubble_units==1:\n",
    "    Ylabel=r'log$_{10}(L_\\mathrm{X}/$erg s$^{-1}$)'\n",
    "elif hubble_units==2:\n",
    "    XrayLum=XrayLum*hubble**2\n",
    "#    XrayLum_Dev17=XrayLum_Dev17*hubble**2\n",
    "    Ylabel=r'log$_{10}(L_\\mathrm{X}/h^{-2}$erg s$^{-1}$)'\n",
    "\n",
    "# Plot\n",
    "plt.close(1)\n",
    "plt.figure(1,figsize=(8,6))\n",
    "#figure(1,figsize=(8,12))\n",
    "#subplot(2,1,1)\n",
    "plt.semilogx(kTX,XrayLum,'.',label='HWT15')\n",
    "plt.grid(True)\n",
    "plt.xlabel(Xlabel)\n",
    "plt.ylabel(Ylabel)\n",
    "plt.title('Check units!')\n",
    "plt.xlim(xrange)\n",
    "plt.ylim(yrange)\n",
    "plt.legend(loc=2)\n",
    "#subplot(2,1,2)\n",
    "plt.savefig(pngfile)\n"
   ]
  },
  {
   "cell_type": "code",
   "execution_count": null,
   "metadata": {},
   "outputs": [],
   "source": [
    "plt.hist(np.log10(kTX))"
   ]
  },
  {
   "cell_type": "code",
   "execution_count": null,
   "metadata": {},
   "outputs": [],
   "source": [
    "plt.loglog(Mvir,Vvir,'.')\n",
    "plt.xlim([1e13,1e15])\n",
    "plt.ylim([300,3000])\n",
    "plt.grid()"
   ]
  },
  {
   "cell_type": "code",
   "execution_count": null,
   "metadata": {},
   "outputs": [],
   "source": [
    "Mvir[Mvir>1e11]"
   ]
  },
  {
   "cell_type": "code",
   "execution_count": null,
   "metadata": {},
   "outputs": [],
   "source": []
  }
 ],
 "metadata": {
  "language_info": {
   "name": "python",
   "pygments_lexer": "ipython3"
  }
 },
 "nbformat": 4,
 "nbformat_minor": 1
}
