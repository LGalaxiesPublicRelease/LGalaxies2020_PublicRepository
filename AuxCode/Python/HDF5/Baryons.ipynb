{
 "cells": [
  {
   "cell_type": "markdown",
   "metadata": {},
   "source": []
  },
  {
   "cell_type": "raw",
   "metadata": {},
   "source": [
    "# Read data in HDF5 format and create a plot of total baryon content"
   ]
  },
  {
   "cell_type": "code",
   "execution_count": null,
   "metadata": {},
   "outputs": [],
   "source": [
    "# Imports\n",
    "import astropy.constants as c\n",
    "import astropy.units as u\n",
    "import h5py\n",
    "import numpy as np\n",
    "import matplotlib\n",
    "import matplotlib.pyplot as plt\n",
    "%matplotlib inline\n",
    "matplotlib.rc('font',size=20)"
   ]
  },
  {
   "cell_type": "code",
   "execution_count": null,
   "metadata": {},
   "outputs": [],
   "source": [
    "# Parameters\n",
    "outputDir='../../../output/cooling_old/'\n",
    "#outputDir='../../../output/Hen15_betaprof_fixinfall/'\n",
    "filePrefix='SA_output_'\n",
    "filePostfix='.h5'\n",
    "snap='58'\n",
    "firstFile=40\n",
    "lastFile=40\n",
    "xmin=1e12\n",
    "xmax=1e15\n",
    "ymin0=1e9\n",
    "ymax0=1e14\n",
    "ymin1=0.\n",
    "ymax1=0.2\n",
    "baryonFrac=0.155 # Read from header!"
   ]
  },
  {
   "cell_type": "code",
   "execution_count": null,
   "metadata": {},
   "outputs": [],
   "source": [
    "# First determine the size of the arrays that we need to hold the data\n",
    "nGal=0\n",
    "for iFile in range(firstFile,lastFile+1):\n",
    "    # The following line closes the file at the end of the loop\n",
    "    with h5py.File(outputDir+filePrefix+'%i'%iFile+filePostfix,'r') as f:\n",
    "        nGal+=len(f[snap])\n",
    "print('nGal=',nGal)\n",
    "\n",
    "# Declare numpy arrays to hold the data\n",
    "Type=np.empty(nGal)\n",
    "Mvir=np.empty(nGal)\n",
    "CentralMvir=np.empty(nGal)\n",
    "ColdGas=np.empty(nGal)\n",
    "HotGas=np.empty(nGal)\n",
    "EjectedMass=np.empty(nGal)\n",
    "ExcessMass=np.empty(nGal)\n",
    "DiskMass=np.empty(nGal)\n",
    "BulgeMass=np.empty(nGal)\n",
    "BlackHoleMass=np.empty(nGal)\n",
    "ICM=np.empty(nGal)\n",
    "BaryonMass=np.empty(nGal)\n",
    "TotalMass=np.empty(nGal)\n",
    "\n",
    "# Now read in the data\n",
    "iGal=0\n",
    "for iFile in range(firstFile,lastFile+1):\n",
    "    # The following line closes the file at the end of the loop\n",
    "    with h5py.File(outputDir+filePrefix+'%i'%iFile+filePostfix,'r') as f:\n",
    "        nGalFile=len(f[snap])\n",
    "        Type[iGal:iGal+nGalFile]=f[snap]['Type']\n",
    "        CentralMvir[iGal:iGal+nGalFile]=f[snap]['CentralMvir']\n",
    "        Mvir[iGal:iGal+nGalFile]=f[snap]['Mvir']\n",
    "        ColdGas[iGal:iGal+nGalFile]=f[snap]['ColdGas']\n",
    "        HotGas[iGal:iGal+nGalFile]=f[snap]['HotGas']\n",
    "        EjectedMass[iGal:iGal+nGalFile]=f[snap]['EjectedMass']\n",
    "        ExcessMass[iGal:iGal+nGalFile]=f[snap]['ExcessMass']\n",
    "        DiskMass[iGal:iGal+nGalFile]=f[snap]['DiskMass']\n",
    "        BulgeMass[iGal:iGal+nGalFile]=f[snap]['BulgeMass']\n",
    "        BlackHoleMass[iGal:iGal+nGalFile]=f[snap]['BlackHoleMass']\n",
    "        ICM[iGal:iGal+nGalFile]=f[snap]['ICM']\n",
    "        iGal+=nGalFile\n",
    "        \n",
    "BaryonMass=ColdGas+HotGas+EjectedMass+DiskMass+BulgeMass+BlackHoleMass+ICM\n",
    "TotalMass=BaryonMass+ExcessMass"
   ]
  },
  {
   "cell_type": "code",
   "execution_count": null,
   "metadata": {},
   "outputs": [],
   "source": [
    "# We want the total mass of all objects in the FoF group\n",
    "# Satellite galaxies precede the Type 0 that they are part of, so we can do this simply with indexing of Type 0 galaxies.\n",
    "index0=np.where(Type==0)[0]\n",
    "# Completely failed to do this by clever indexing, so going to do it longhand\n",
    "BaryonMassHalo=np.empty(len(index0))\n",
    "BaryonMassHalo[0]=np.sum(BaryonMass[0:index0[0]+1])\n",
    "for i in range(1,len(index0)): BaryonMassHalo[i]=np.sum(BaryonMass[index0[i-1]+1:index0[i]+1])\n",
    "# Completely failed to do this by clever indexing, so going to do it longhand\n",
    "TotalMassHalo=np.empty(len(index0))\n",
    "TotalMassHalo[0]=np.sum(TotalMass[0:index0[0]+1])\n",
    "for i in range(1,len(index0)): TotalMassHalo[i]=np.sum(TotalMass[index0[i-1]+1:index0[i]+1])"
   ]
  },
  {
   "cell_type": "code",
   "execution_count": null,
   "metadata": {},
   "outputs": [],
   "source": [
    "# Plots of baryon fractions\n",
    "plt.figure(0,figsize=(16,6))\n",
    "#plt.figure(0,figsize=(8,6))\n",
    "plt.subplot(1,2,1)\n",
    "plt.semilogx(Mvir*1e10,BaryonMass/Mvir,'.',label='Type 1 + 2')\n",
    "plt.semilogx(Mvir[index0]*1e10,BaryonMass[index0]/Mvir[index0],'r.',label='Type 0')\n",
    "plt.xlabel(r'$M_\\mathrm{200c}/h^{-1}M_\\odot$')\n",
    "plt.ylabel(r'$M_\\mathrm{BaryonMass}//M_\\mathrm{200c}$')\n",
    "plt.plot([xmin,xmax],[baryonFrac,baryonFrac])\n",
    "plt.xlim([xmin,xmax])\n",
    "plt.ylim([ymin1,ymax1+0.1])\n",
    "plt.legend()\n",
    "plt.subplot(1,2,2)\n",
    "plt.semilogx(Mvir[index0]*1e10,BaryonMassHalo/Mvir[index0],'.',label='Halo')\n",
    "plt.xlabel(r'$M_\\mathrm{200c}/h^{-1}M_\\odot$')\n",
    "plt.ylabel(r'$M_\\mathrm{BaryonMass}/M_\\mathrm{200c}$')\n",
    "plt.plot([xmin,xmax],[baryonFrac,baryonFrac])\n",
    "plt.xlim([xmin,xmax])\n",
    "plt.ylim([ymin1+0.1,ymax1+0.1])\n",
    "plt.legend()\n",
    "plt.savefig('figs/Baryons_'+outputDir.split('/')[-2]+'.png')"
   ]
  },
  {
   "cell_type": "code",
   "execution_count": null,
   "metadata": {},
   "outputs": [],
   "source": [
    "# Plots of baryon fractions with and without the ExcessMass phase\n",
    "plt.figure(0,figsize=(16,6))\n",
    "#plt.figure(0,figsize=(8,6))\n",
    "plt.subplot(1,2,1)\n",
    "plt.semilogx(Mvir[index0]*1e10,BaryonMassHalo/Mvir[index0],'.',label='Halo')\n",
    "plt.xlabel(r'$M_\\mathrm{200c}/h^{-1}M_\\odot$')\n",
    "plt.ylabel(r'$M_\\mathrm{BaryonMass}/M_\\mathrm{200c}$')\n",
    "plt.plot([xmin,xmax],[baryonFrac,baryonFrac])\n",
    "plt.xlim([xmin,xmax])\n",
    "plt.ylim([ymin1+0.1,ymax1+0.1])\n",
    "plt.legend()\n",
    "plt.subplot(1,2,2)\n",
    "plt.semilogx(Mvir[index0]*1e10,TotalMassHalo/Mvir[index0],'.',label='Halo')\n",
    "plt.xlabel(r'$M_\\mathrm{200c}/h^{-1}M_\\odot$')\n",
    "plt.ylabel(r'$M_\\mathrm{TotalMass}/M_\\mathrm{200c}$')\n",
    "plt.plot([xmin,xmax],[baryonFrac,baryonFrac])\n",
    "plt.xlim([xmin,xmax])\n",
    "plt.ylim([ymin1+0.1,ymax1+0.1])\n",
    "plt.legend()\n",
    "plt.savefig('figs/BaryonsExcess_'+outputDir.split('/')[-2]+'.png')"
   ]
  },
  {
   "cell_type": "code",
   "execution_count": null,
   "metadata": {},
   "outputs": [],
   "source": []
  }
 ],
 "metadata": {
  "language_info": {
   "name": "python",
   "pygments_lexer": "ipython3"
  }
 },
 "nbformat": 4,
 "nbformat_minor": 1
}
