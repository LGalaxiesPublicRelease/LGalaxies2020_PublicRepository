{
 "cells": [
  {
   "cell_type": "code",
   "execution_count": null,
   "metadata": {},
   "outputs": [],
   "source": [
    "#========================================================================\n",
    "#\n",
    "#   Sample code to read in the L-galaxies hdf5 data \n",
    "#\n",
    "#\n",
    "#=======================================================================\n",
    " \n",
    "import h5py \n",
    "import matplotlib.pyplot as plt\n",
    "from mpl_toolkits.mplot3d import Axes3D\n",
    "import time\n",
    "%matplotlib inline"
   ]
  },
  {
   "cell_type": "code",
   "execution_count": null,
   "metadata": {},
   "outputs": [],
   "source": [
    "snap='58'\n",
    "filenr=5\n",
    "\n",
    "with h5py.File('../../../output/Hen15_sfh2/SA_output_%i.h5' %filenr,'r') as f:\n",
    "    \n",
    "    #Get the data from the snapshot\n",
    "    data=f[snap]\n",
    "    #Get an array of the data returned\n",
    "    Mvir=data['Mvir']\n",
    "\n",
    "    # want to only plot galaxies which have a central viral mass than 20\n",
    "    selection=[Mvir>20.0]\n",
    "    \n",
    "    # Get the coordinates of the data\n",
    "    x=f[snap]['Pos'][:,0][selection]\n",
    "    y=f[snap]['Pos'][:,1][selection]  \n",
    "    z=f[snap]['Pos'][:,2][selection]  \n",
    "\n",
    "    #Output the possible data labels where the first 3 are: table class, table version, table name\n",
    "    print(list(f[snap].attrs.values()))\n",
    "    "
   ]
  },
  {
   "cell_type": "code",
   "execution_count": null,
   "metadata": {},
   "outputs": [],
   "source": [
    "#make a simple plot of the data\n",
    "fig = plt.figure()\n",
    "ax = fig.add_subplot(111, projection='3d')\n",
    "ax.scatter(x,y,z,marker='o',s=4)\n",
    "fig.savefig(\"L_gal_scatter_plot.png\")\n"
   ]
  },
  {
   "cell_type": "code",
   "execution_count": null,
   "metadata": {},
   "outputs": [],
   "source": [
    "max(x)*4"
   ]
  },
  {
   "cell_type": "code",
   "execution_count": null,
   "metadata": {},
   "outputs": [],
   "source": []
  }
 ],
 "metadata": {
  "language_info": {
   "name": "python",
   "pygments_lexer": "ipython3"
  }
 },
 "nbformat": 4,
 "nbformat_minor": 1
}
