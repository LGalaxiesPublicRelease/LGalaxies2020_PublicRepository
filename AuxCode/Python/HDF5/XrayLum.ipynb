{
 "cells": [
  {
   "cell_type": "markdown",
   "metadata": {},
   "source": [
    "# Example to read data in HDF5 format and create an X-ray luminosity plot"
   ]
  },
  {
   "cell_type": "code",
   "execution_count": null,
   "metadata": {},
   "outputs": [],
   "source": [
    "# Imports\n",
    "import astropy.constants as c\n",
    "import astropy.units as u\n",
    "import h5py\n",
    "import numpy as np\n",
    "import matplotlib\n",
    "import matplotlib.pyplot as plt\n",
    "%matplotlib inline\n",
    "matplotlib.rc('font',size=20)"
   ]
  },
  {
   "cell_type": "code",
   "execution_count": null,
   "metadata": {},
   "outputs": [],
   "source": [
    "# Parameters\n",
    "outputStub='../../../output/'\n",
    "dataset='cooling_old'\n",
    "outputDir=outputStub+dataset+'/'\n",
    "filePrefix='SA_output_'\n",
    "filePostfix='.h5'\n",
    "snap='58'\n",
    "firstFile=40\n",
    "lastFile=40\n",
    "xmin=0.01\n",
    "xmax=10."
   ]
  },
  {
   "cell_type": "code",
   "execution_count": null,
   "metadata": {},
   "outputs": [],
   "source": [
    "# First determine the size of the arrays that we need to hold the data\n",
    "nGal=0\n",
    "for iFile in range(firstFile,lastFile+1):\n",
    "    # The following line closes the file at the end of the loop\n",
    "    with h5py.File(outputDir+filePrefix+'%i'%iFile+filePostfix,'r') as f:\n",
    "        nGal+=len(f[snap])\n",
    "print('nGal=',nGal)\n",
    "\n",
    "# Declare numpy arrays to hold the data\n",
    "Type=np.empty(nGal)\n",
    "Vvir=np.empty(nGal)\n",
    "XrayLum=np.empty(nGal)\n",
    "\n",
    "# Now read in the data\n",
    "iGal=0\n",
    "for iFile in range(firstFile,lastFile+1):\n",
    "    # The following line closes the file at the end of the loop\n",
    "    with h5py.File(outputDir+filePrefix+'%i'%iFile+filePostfix,'r') as f:\n",
    "        nGalFile=len(f[snap])\n",
    "        Type[iGal:iGal+nGalFile]=f[snap]['Type']\n",
    "        XrayLum[iGal:iGal+nGalFile]=f[snap]['XrayLum']\n",
    "        Vvir[iGal:iGal+nGalFile]=f[snap]['Vvir']\n",
    "        iGal+=nGalFile"
   ]
  },
  {
   "cell_type": "code",
   "execution_count": null,
   "metadata": {},
   "outputs": [],
   "source": [
    "# Plot star-formation efficiency for central galaxy in halos (Type==0)\n",
    "index0=np.where(Type==0)[0]\n",
    "# Virial temperatue of halo in keV\n",
    "mumH=1e-27*u.kg\n",
    "x=(0.5*(Vvir[index0]*u.km/u.s)**2*mumH/u.keV).si\n",
    "y=10**XrayLum[index0]\n",
    "plt.figure(0,figsize=(12,9))\n",
    "plt.loglog(x,y,'.')\n",
    "plt.xlabel(r'$kT_\\mathrm{vir}/$keV')\n",
    "plt.ylabel(r'$L_\\mathrm{X}/$erg$\\,$s$^{-1}$')\n",
    "plt.xlim([xmin,xmax])\n",
    "plt.ylim([1e37,1e47])\n",
    "plt.plot(np.array([xmin,xmax]),10**44.67*(np.array([xmin,xmax])/5)**3.04,label=r'$10^{44.67}(kT/5$keV$)^{3.04}$')\n",
    "plt.title(dataset)\n",
    "plt.legend()\n",
    "plt.savefig('figs/XrayLum_'+outputDir.split('/')[-2]+'.png')"
   ]
  },
  {
   "cell_type": "code",
   "execution_count": null,
   "metadata": {},
   "outputs": [],
   "source": []
  }
 ],
 "metadata": {
  "language_info": {
   "name": "python",
   "pygments_lexer": "ipython3"
  }
 },
 "nbformat": 4,
 "nbformat_minor": 1
}
